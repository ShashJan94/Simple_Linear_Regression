{
 "cells": [
  {
   "cell_type": "code",
   "execution_count": 128,
   "id": "c976cc60-7b6a-4e75-8dc5-a57dcce88c8b",
   "metadata": {},
   "outputs": [],
   "source": [
    "import matplotlib.pyplot as plt\n",
    "import matplotlib as mpl\n",
    "import numpy as np\n",
    "import pandas as pd\n",
    "import statsmodels.api as sm\n",
    "import statsmodels.formula.api as smf\n",
    "import scipy.stats as stats\n",
    "import math\n",
    "from pydoc import help\n",
    "from scipy.stats.stats import pearsonr"
   ]
  },
  {
   "cell_type": "markdown",
   "id": "f43ef62d-df23-4466-93c6-ad9d29990d2f",
   "metadata": {},
   "source": [
    "Data relationship information assesment tools given below-"
   ]
  },
  {
   "cell_type": "code",
   "execution_count": 2,
   "id": "43e8081c-b20c-4961-9c4e-c9dbe84df1b1",
   "metadata": {},
   "outputs": [],
   "source": [
    "def standard_deviation(data,bias=0):\n",
    "  x= data\n",
    "  observations = float(len(data))\n",
    "  std_dev = np.sqrt(np.sum((x-np.mean(x))**2)/observations-min(bias,1))\n",
    "  return std_dev"
   ]
  },
  {
   "cell_type": "code",
   "execution_count": 3,
   "id": "e931ded5-602a-4683-ac18-a1e2434f361e",
   "metadata": {},
   "outputs": [],
   "source": [
    "def z_score(data):\n",
    "  x = data\n",
    "  zscore = (x-np.mean(x))/standard_deviation(x)\n",
    "  return zscore\n"
   ]
  },
  {
   "cell_type": "code",
   "execution_count": 254,
   "id": "3212c69d-fb55-4d49-992a-f6ac0b04466f",
   "metadata": {},
   "outputs": [],
   "source": [
    "def correlation(var1,var2,bias =0):\n",
    "  x= var1\n",
    "  y=var2\n",
    "  n = float(len(var1))\n",
    "  correlation = np.sum((x-np.mean(x))*(y-np.mean(y)))/(n-min(bias,1))*(standard_deviation(x)*standard_deviation(y))\n",
    "  return correlation"
   ]
  },
  {
   "cell_type": "code",
   "execution_count": 125,
   "id": "65d2a9fb-0b4a-47b8-9c62-fb533d75c4b6",
   "metadata": {},
   "outputs": [],
   "source": [
    "def SumErrorSquared(var1,bias=0) :\n",
    "  Y=var1\n",
    "  observations= float(len(var1))\n",
    "  mean_sum_squared_error = np.sum((Y-np.mean(Y))**2)\n",
    "  regr_sum_squared_error = np.sum((Y-fitted_values)**2)#/(observations-min(bias,1))\n",
    "  ErrorRatio = (mean_sum_squared_error-regr_sum_squared_error)/mean_sum_squared_error #pearson-correlation\n",
    "  return [np.sqrt(mean_sum_squared_error),np.sqrt(regr_sum_squared_error),ErrorRatio]"
   ]
  },
  {
   "cell_type": "markdown",
   "id": "30cbfe67-8f96-486c-b278-b0d603c288a0",
   "metadata": {},
   "source": [
    "Solving regression problem with Matrix operations where the independent variable is represented as a matrix always and the target variable will always be considered as a vector."
   ]
  },
  {
   "cell_type": "code",
   "execution_count": 174,
   "id": "ca0bb5a4-ae05-4cca-a4f2-2d3fbea3b0e7",
   "metadata": {},
   "outputs": [],
   "source": [
    "def inverse_matrix(X,y,pseduo=False):\n",
    "   n =len(X)\n",
    "   if type(X)!=np.ndarray:\n",
    "        X=np.array(X.to_list())\n",
    "   X = X.reshape(n,1)\n",
    "   Xb = np.column_stack((X,np.ones(n)))\n",
    "   y = y.values\n",
    "   if pseduo:\n",
    "        return np.dot(np.linalg.pinv(np.dot(Xb.T,Xb)),np.dot(Xb.T,y))\n",
    "   else:\n",
    "        return np.dot(np.linalg.inv(np.dot(Xb.T,Xb)),np.dot(Xb.T,y))\n",
    "    "
   ]
  },
  {
   "cell_type": "code",
   "execution_count": 202,
   "id": "208841fc-455f-48cc-aa73-5194899ac8bf",
   "metadata": {},
   "outputs": [],
   "source": [
    "def normal_equation(X,y):\n",
    "        n =len(X)\n",
    "        X=np.array(X.to_list())\n",
    "        X=X.reshape(n,1)\n",
    "        print(X)\n",
    "        Xb = np.column_stack((X,np.ones(n)))\n",
    "        y = y.values\n",
    "        return np.linalg.solve(np.dot(Xb.T,Xb),np.dot(Xb.T,y))"
   ]
  },
  {
   "cell_type": "code",
   "execution_count": 255,
   "id": "26fbb03b-9da7-4f06-8141-a56d03306fb8",
   "metadata": {},
   "outputs": [],
   "source": [
    "def fitted_values(X):\n",
    "        Eq = normal_equation(X,Y)\n",
    "        Y_hat= np.multiply(Eq[0],X)+Eq[1]\n",
    "        return Y_hat"
   ]
  },
  {
   "cell_type": "markdown",
   "id": "0a834331-e955-425b-b493-302902604d13",
   "metadata": {},
   "source": [
    "Plotting functions to visualize data."
   ]
  },
  {
   "cell_type": "code",
   "execution_count": 132,
   "id": "557ef634-7be1-4a22-9fb7-1a136c70ebeb",
   "metadata": {},
   "outputs": [],
   "source": [
    "def scatter_plot(X,Y):\n",
    "    s= plt.plot(X,Y,'bp')\n",
    "    return plt.grid()"
   ]
  },
  {
   "cell_type": "code",
   "execution_count": 123,
   "id": "008fe2e9-66a3-4b74-88dc-c064c5b16f92",
   "metadata": {},
   "outputs": [],
   "source": [
    "def residual_square_error_plot(X,Y):\n",
    "    var1 =Y\n",
    "    residuals = var1-fitted_values\n",
    "    normalized_res = z_score(residuals)\n",
    "    residual_scatter_plot = plt.plot(X,normalized_res,'bp')\n",
    "    mean_line = plt.plot([int(X.min()),round(X.max(),0)],[0,0],'-',linewidth=2)\n",
    "    upper_line = plt.plot([int(X.min()),round(X.max(),0)],[3,3],'--',linewidth=2)\n",
    "    lower_line = plt.plot([int(X.min()),round(X.max(),0)],[-3,-3],'--',linewidth=2)\n",
    "    return plt.grid()"
   ]
  },
  {
   "cell_type": "code",
   "execution_count": 236,
   "id": "da30dfad-15c7-452d-af23-cf654fc7fb11",
   "metadata": {},
   "outputs": [],
   "source": [
    "def fitted_value_plot(X,Y):\n",
    "    s =plt.plot(X,Y,'bp')\n",
    "    v_fit = fitted_model.predict(X)\n",
    "    X=X.values\n",
    "    rng1,rng2 = [np.min(X),np.max(X)],[np.min(v_fit),np.max(v_fit)]\n",
    "    fit_line = plt.plot([int(rng1[0]),int(rng1[1])],[int(rng2[0]),int(rng2[1])],'--',linewidth=2)\n",
    "    return plt.grid()"
   ]
  },
  {
   "cell_type": "code",
   "execution_count": 231,
   "id": "c0c7ddee-dc63-49e2-baae-3b535c3d14be",
   "metadata": {},
   "outputs": [],
   "source": [
    "def normal_distribution(X):\n",
    "    plt.hist(X,bins=50,density=True,color='c')\n",
    "    xmin,xmax=plt.xlim()\n",
    "    rng = np.linspace(xmin,xmax,len(X))\n",
    "    sigma=standard_deviation(X)\n",
    "    norm_pdf= norm.pdf(rng,X.mean(),sigma)\n",
    "    plt.plot(rng,norm_pdf,'k',linewidth = 2)\n",
    "    return plt.grid()"
   ]
  },
  {
   "cell_type": "code",
   "execution_count": 244,
   "id": "e4e0f2db-3933-4176-b387-8af94df86913",
   "metadata": {},
   "outputs": [],
   "source": [
    "dataset = pd.read_csv('diamonds.csv')\n",
    "X=dataset['carat']\n",
    "Y=dataset['price']"
   ]
  },
  {
   "cell_type": "code",
   "execution_count": 8,
   "id": "43cbb4a4-3f96-446e-b4c2-fdb086ffe87c",
   "metadata": {},
   "outputs": [
    {
     "data": {
      "image/png": "[encoded data removed]",
      "text/plain": [
       "<Figure size 432x288 with 1 Axes>"
      ]
     },
     "metadata": {
      "needs_background": "light"
     },
     "output_type": "display_data"
    }
   ],
   "source": [
    "scatter_plot(X,Y)"
   ]
  },
  {
   "cell_type": "code",
   "execution_count": 243,
   "id": "5ead7cfa-caa1-4dd1-b415-a63e445a6a45",
   "metadata": {},
   "outputs": [
    {
     "name": "stderr",
     "output_type": "stream",
     "text": [
      "C:\\ProgramData\\Anaconda3\\lib\\site-packages\\statsmodels\\tsa\\tsatools.py:142: FutureWarning: In a future version of pandas all arguments of concat except for the argument 'objs' will be keyword-only\n",
      "  x = pd.concat(x[::order], 1)\n"
     ]
    },
    {
     "data": {
      "text/html": [
       "<table class=\"simpletable\">\n",
       "<caption>OLS Regression Results</caption>\n",
       "<tr>\n",
       "  <th>Dep. Variable:</th>          <td>price</td>      <th>  R-squared:         </th>  <td>   0.849</td>  \n",
       "</tr>\n",
       "<tr>\n",
       "  <th>Model:</th>                   <td>OLS</td>       <th>  Adj. R-squared:    </th>  <td>   0.849</td>  \n",
       "</tr>\n",
       "<tr>\n",
       "  <th>Method:</th>             <td>Least Squares</td>  <th>  F-statistic:       </th>  <td>3.041e+05</td> \n",
       "</tr>\n",
       "<tr>\n",
       "  <th>Date:</th>             <td>Sun, 29 May 2022</td> <th>  Prob (F-statistic):</th>   <td>  0.00</td>   \n",
       "</tr>\n",
       "<tr>\n",
       "  <th>Time:</th>                 <td>02:18:50</td>     <th>  Log-Likelihood:    </th> <td>-4.7273e+05</td>\n",
       "</tr>\n",
       "<tr>\n",
       "  <th>No. Observations:</th>      <td> 53940</td>      <th>  AIC:               </th>  <td>9.455e+05</td> \n",
       "</tr>\n",
       "<tr>\n",
       "  <th>Df Residuals:</th>          <td> 53938</td>      <th>  BIC:               </th>  <td>9.455e+05</td> \n",
       "</tr>\n",
       "<tr>\n",
       "  <th>Df Model:</th>              <td>     1</td>      <th>                     </th>      <td> </td>     \n",
       "</tr>\n",
       "<tr>\n",
       "  <th>Covariance Type:</th>      <td>nonrobust</td>    <th>                     </th>      <td> </td>     \n",
       "</tr>\n",
       "</table>\n",
       "<table class=\"simpletable\">\n",
       "<tr>\n",
       "    <td></td>       <th>coef</th>     <th>std err</th>      <th>t</th>      <th>P>|t|</th>  <th>[0.025</th>    <th>0.975]</th>  \n",
       "</tr>\n",
       "<tr>\n",
       "  <th>const</th> <td>-2256.3606</td> <td>   13.055</td> <td> -172.830</td> <td> 0.000</td> <td>-2281.949</td> <td>-2230.772</td>\n",
       "</tr>\n",
       "<tr>\n",
       "  <th>carat</th> <td> 7756.4256</td> <td>   14.067</td> <td>  551.408</td> <td> 0.000</td> <td> 7728.855</td> <td> 7783.996</td>\n",
       "</tr>\n",
       "</table>\n",
       "<table class=\"simpletable\">\n",
       "<tr>\n",
       "  <th>Omnibus:</th>       <td>14025.341</td> <th>  Durbin-Watson:     </th>  <td>   0.986</td> \n",
       "</tr>\n",
       "<tr>\n",
       "  <th>Prob(Omnibus):</th>  <td> 0.000</td>   <th>  Jarque-Bera (JB):  </th> <td>153030.525</td>\n",
       "</tr>\n",
       "<tr>\n",
       "  <th>Skew:</th>           <td> 0.939</td>   <th>  Prob(JB):          </th>  <td>    0.00</td> \n",
       "</tr>\n",
       "<tr>\n",
       "  <th>Kurtosis:</th>       <td>11.035</td>   <th>  Cond. No.          </th>  <td>    3.65</td> \n",
       "</tr>\n",
       "</table><br/><br/>Notes:<br/>[1] Standard Errors assume that the covariance matrix of the errors is correctly specified."
      ],
      "text/plain": [
       "<class 'statsmodels.iolib.summary.Summary'>\n",
       "\"\"\"\n",
       "                            OLS Regression Results                            \n",
       "==============================================================================\n",
       "Dep. Variable:                  price   R-squared:                       0.849\n",
       "Model:                            OLS   Adj. R-squared:                  0.849\n",
       "Method:                 Least Squares   F-statistic:                 3.041e+05\n",
       "Date:                Sun, 29 May 2022   Prob (F-statistic):               0.00\n",
       "Time:                        02:18:50   Log-Likelihood:            -4.7273e+05\n",
       "No. Observations:               53940   AIC:                         9.455e+05\n",
       "Df Residuals:                   53938   BIC:                         9.455e+05\n",
       "Df Model:                           1                                         \n",
       "Covariance Type:            nonrobust                                         \n",
       "==============================================================================\n",
       "                 coef    std err          t      P>|t|      [0.025      0.975]\n",
       "------------------------------------------------------------------------------\n",
       "const      -2256.3606     13.055   -172.830      0.000   -2281.949   -2230.772\n",
       "carat       7756.4256     14.067    551.408      0.000    7728.855    7783.996\n",
       "==============================================================================\n",
       "Omnibus:                    14025.341   Durbin-Watson:                   0.986\n",
       "Prob(Omnibus):                  0.000   Jarque-Bera (JB):           153030.525\n",
       "Skew:                           0.939   Prob(JB):                         0.00\n",
       "Kurtosis:                      11.035   Cond. No.                         3.65\n",
       "==============================================================================\n",
       "\n",
       "Notes:\n",
       "[1] Standard Errors assume that the covariance matrix of the errors is correctly specified.\n",
       "\"\"\""
      ]
     },
     "execution_count": 243,
     "metadata": {},
     "output_type": "execute_result"
    }
   ],
   "source": [
    "from statsmodels.api import add_constant\n",
    "Xb=add_constant(X)\n",
    "lin_regr = sm.OLS(Y,Xb)\n",
    "fitted_model = lin_regr.fit()\n",
    "fitted_model.summary()"
   ]
  },
  {
   "cell_type": "code",
   "execution_count": 209,
   "id": "f819a63b-aa69-4d97-9e4a-694c908c4a0a",
   "metadata": {},
   "outputs": [],
   "source": [
    "betas = fitted_model.params\n",
    "fitted_values = fitted_model.predict(X)"
   ]
  },
  {
   "cell_type": "code",
   "execution_count": 11,
   "id": "e00c1e40-4d17-4b1f-9df5-26132d457270",
   "metadata": {},
   "outputs": [],
   "source": [
    "\n",
    "    "
   ]
  },
  {
   "cell_type": "code",
   "execution_count": 241,
   "id": "352d2800-fbe7-4ebf-ad5f-1ed68ad4b24d",
   "metadata": {},
   "outputs": [
    {
     "data": {
      "image/png": "[encoded data removed]",
      "text/plain": [
       "<Figure size 432x288 with 1 Axes>"
      ]
     },
     "metadata": {
      "needs_background": "light"
     },
     "output_type": "display_data"
    }
   ],
   "source": [
    "fitted_value_plot(X,Y)"
   ]
  },
  {
   "cell_type": "code",
   "execution_count": 237,
   "id": "16b7578a-bf85-4df8-969e-2a61f9ca44a3",
   "metadata": {},
   "outputs": [
    {
     "data": {
      "text/plain": [
       "[926538.2536719118, 359646.6257282055, 0.8493305264354857]"
      ]
     },
     "execution_count": 237,
     "metadata": {},
     "output_type": "execute_result"
    }
   ],
   "source": [
    "SumErrorSquared(Y,fitted_values)"
   ]
  },
  {
   "cell_type": "code",
   "execution_count": 247,
   "id": "3d1b40bd-ef27-4a22-8a79-beccc21236bd",
   "metadata": {},
   "outputs": [
    {
     "data": {
      "image/png": "[encoded data removed]",
      "text/plain": [
       "<Figure size 432x288 with 1 Axes>"
      ]
     },
     "metadata": {
      "needs_background": "light"
     },
     "output_type": "display_data"
    }
   ],
   "source": [
    "normal_distribution(X)\n"
   ]
  },
  {
   "cell_type": "code",
   "execution_count": 248,
   "id": "1a674e02-73bd-40d6-92b2-6c054a1ef46e",
   "metadata": {},
   "outputs": [
    {
     "data": {
      "image/png": "[encoded data removed]",
      "text/plain": [
       "<Figure size 432x288 with 1 Axes>"
      ]
     },
     "metadata": {
      "needs_background": "light"
     },
     "output_type": "display_data"
    }
   ],
   "source": [
    "normal_distribution(Y)\n"
   ]
  },
  {
   "cell_type": "code",
   "execution_count": 249,
   "id": "ddbec0d9-481c-4aa7-afdf-3d8aaf5b915e",
   "metadata": {},
   "outputs": [
    {
     "data": {
      "image/png": "[encoded data removed]",
      "text/plain": [
       "<Figure size 432x288 with 1 Axes>"
      ]
     },
     "metadata": {
      "needs_background": "light"
     },
     "output_type": "display_data"
    }
   ],
   "source": [
    "normal_distribution(fitted_values)"
   ]
  },
  {
   "cell_type": "code",
   "execution_count": 238,
   "id": "a52d5952-5be0-4ce8-a89f-be654408b052",
   "metadata": {},
   "outputs": [
    {
     "data": {
      "text/plain": [
       "[926538.2536719118, 359646.6257282055, 0.8493305264354857]"
      ]
     },
     "execution_count": 238,
     "metadata": {},
     "output_type": "execute_result"
    }
   ],
   "source": [
    "SumErrorSquared(Y)"
   ]
  },
  {
   "cell_type": "code",
   "execution_count": 245,
   "id": "9147201f-0812-47af-8a50-e13af1b7cc65",
   "metadata": {},
   "outputs": [
    {
     "name": "stdout",
     "output_type": "stream",
     "text": [
      "0.849330526435486\n"
     ]
    }
   ],
   "source": [
    "print((pearsonr(X,Y)[0])**2)"
   ]
  },
  {
   "cell_type": "code",
   "execution_count": 250,
   "id": "b271ef4d-b2a5-4f36-814c-962a010fb413",
   "metadata": {},
   "outputs": [
    {
     "data": {
      "image/png": "[encoded data removed]",
      "text/plain": [
       "<Figure size 432x288 with 1 Axes>"
      ]
     },
     "metadata": {
      "needs_background": "light"
     },
     "output_type": "display_data"
    }
   ],
   "source": [
    "residual_square_error_plot(X,Y)"
   ]
  },
  {
   "cell_type": "code",
   "execution_count": 203,
   "id": "83bb19e5-9450-439f-be06-c8f7ac0a3938",
   "metadata": {},
   "outputs": [
    {
     "name": "stdout",
     "output_type": "stream",
     "text": [
      "[[0.23]\n",
      " [0.21]\n",
      " [0.23]\n",
      " ...\n",
      " [0.7 ]\n",
      " [0.86]\n",
      " [0.75]]\n"
     ]
    },
    {
     "data": {
      "text/plain": [
       "array([ 7756.42561797, -2256.36058005])"
      ]
     },
     "execution_count": 203,
     "metadata": {},
     "output_type": "execute_result"
    }
   ],
   "source": [
    "normal_equation(X,Y)"
   ]
  },
  {
   "cell_type": "code",
   "execution_count": 253,
   "id": "9c66bb0e-9e36-415e-8caa-92af8a5d419c",
   "metadata": {},
   "outputs": [
    {
     "data": {
      "text/plain": [
       "0        -472.382688\n",
       "1        -627.511200\n",
       "2        -472.382688\n",
       "3          -6.997151\n",
       "4         148.131362\n",
       "            ...     \n",
       "53935    3328.265865\n",
       "53936    3328.265865\n",
       "53937    3173.137353\n",
       "53938    4414.165451\n",
       "53939    3560.958633\n",
       "Length: 53940, dtype: float64"
      ]
     },
     "execution_count": 253,
     "metadata": {},
     "output_type": "execute_result"
    }
   ],
   "source": [
    "fitted_model.predict(Xb)"
   ]
  },
  {
   "cell_type": "code",
   "execution_count": 198,
   "id": "d93367ef-9695-4af3-a0dc-46561dbd1502",
   "metadata": {},
   "outputs": [
    {
     "data": {
      "text/plain": [
       "array([ 7756.42561797, -2256.36058005])"
      ]
     },
     "execution_count": 198,
     "metadata": {},
     "output_type": "execute_result"
    }
   ],
   "source": [
    "inverse_matrix(X,Y)"
   ]
  },
  {
   "cell_type": "code",
   "execution_count": 251,
   "id": "8293aab8-f3c1-4b78-b9fc-dcf6b008386f",
   "metadata": {},
   "outputs": [
    {
     "data": {
      "text/html": [
       "<table class=\"simpletable\">\n",
       "<caption>OLS Regression Results</caption>\n",
       "<tr>\n",
       "  <th>Dep. Variable:</th>          <td>price</td>      <th>  R-squared:         </th>  <td>   0.849</td>  \n",
       "</tr>\n",
       "<tr>\n",
       "  <th>Model:</th>                   <td>OLS</td>       <th>  Adj. R-squared:    </th>  <td>   0.849</td>  \n",
       "</tr>\n",
       "<tr>\n",
       "  <th>Method:</th>             <td>Least Squares</td>  <th>  F-statistic:       </th>  <td>3.041e+05</td> \n",
       "</tr>\n",
       "<tr>\n",
       "  <th>Date:</th>             <td>Sun, 29 May 2022</td> <th>  Prob (F-statistic):</th>   <td>  0.00</td>   \n",
       "</tr>\n",
       "<tr>\n",
       "  <th>Time:</th>                 <td>02:23:47</td>     <th>  Log-Likelihood:    </th> <td>-4.7273e+05</td>\n",
       "</tr>\n",
       "<tr>\n",
       "  <th>No. Observations:</th>      <td> 53940</td>      <th>  AIC:               </th>  <td>9.455e+05</td> \n",
       "</tr>\n",
       "<tr>\n",
       "  <th>Df Residuals:</th>          <td> 53938</td>      <th>  BIC:               </th>  <td>9.455e+05</td> \n",
       "</tr>\n",
       "<tr>\n",
       "  <th>Df Model:</th>              <td>     1</td>      <th>                     </th>      <td> </td>     \n",
       "</tr>\n",
       "<tr>\n",
       "  <th>Covariance Type:</th>      <td>nonrobust</td>    <th>                     </th>      <td> </td>     \n",
       "</tr>\n",
       "</table>\n",
       "<table class=\"simpletable\">\n",
       "<tr>\n",
       "    <td></td>       <th>coef</th>     <th>std err</th>      <th>t</th>      <th>P>|t|</th>  <th>[0.025</th>    <th>0.975]</th>  \n",
       "</tr>\n",
       "<tr>\n",
       "  <th>const</th> <td>-2256.3606</td> <td>   13.055</td> <td> -172.830</td> <td> 0.000</td> <td>-2281.949</td> <td>-2230.772</td>\n",
       "</tr>\n",
       "<tr>\n",
       "  <th>carat</th> <td> 7756.4256</td> <td>   14.067</td> <td>  551.408</td> <td> 0.000</td> <td> 7728.855</td> <td> 7783.996</td>\n",
       "</tr>\n",
       "</table>\n",
       "<table class=\"simpletable\">\n",
       "<tr>\n",
       "  <th>Omnibus:</th>       <td>14025.341</td> <th>  Durbin-Watson:     </th>  <td>   0.986</td> \n",
       "</tr>\n",
       "<tr>\n",
       "  <th>Prob(Omnibus):</th>  <td> 0.000</td>   <th>  Jarque-Bera (JB):  </th> <td>153030.525</td>\n",
       "</tr>\n",
       "<tr>\n",
       "  <th>Skew:</th>           <td> 0.939</td>   <th>  Prob(JB):          </th>  <td>    0.00</td> \n",
       "</tr>\n",
       "<tr>\n",
       "  <th>Kurtosis:</th>       <td>11.035</td>   <th>  Cond. No.          </th>  <td>    3.65</td> \n",
       "</tr>\n",
       "</table><br/><br/>Notes:<br/>[1] Standard Errors assume that the covariance matrix of the errors is correctly specified."
      ],
      "text/plain": [
       "<class 'statsmodels.iolib.summary.Summary'>\n",
       "\"\"\"\n",
       "                            OLS Regression Results                            \n",
       "==============================================================================\n",
       "Dep. Variable:                  price   R-squared:                       0.849\n",
       "Model:                            OLS   Adj. R-squared:                  0.849\n",
       "Method:                 Least Squares   F-statistic:                 3.041e+05\n",
       "Date:                Sun, 29 May 2022   Prob (F-statistic):               0.00\n",
       "Time:                        02:23:47   Log-Likelihood:            -4.7273e+05\n",
       "No. Observations:               53940   AIC:                         9.455e+05\n",
       "Df Residuals:                   53938   BIC:                         9.455e+05\n",
       "Df Model:                           1                                         \n",
       "Covariance Type:            nonrobust                                         \n",
       "==============================================================================\n",
       "                 coef    std err          t      P>|t|      [0.025      0.975]\n",
       "------------------------------------------------------------------------------\n",
       "const      -2256.3606     13.055   -172.830      0.000   -2281.949   -2230.772\n",
       "carat       7756.4256     14.067    551.408      0.000    7728.855    7783.996\n",
       "==============================================================================\n",
       "Omnibus:                    14025.341   Durbin-Watson:                   0.986\n",
       "Prob(Omnibus):                  0.000   Jarque-Bera (JB):           153030.525\n",
       "Skew:                           0.939   Prob(JB):                         0.00\n",
       "Kurtosis:                      11.035   Cond. No.                         3.65\n",
       "==============================================================================\n",
       "\n",
       "Notes:\n",
       "[1] Standard Errors assume that the covariance matrix of the errors is correctly specified.\n",
       "\"\"\""
      ]
     },
     "execution_count": 251,
     "metadata": {},
     "output_type": "execute_result"
    }
   ],
   "source": [
    "fitted_model.summary()"
   ]
  },
  {
   "cell_type": "code",
   "execution_count": 262,
   "id": "ea99de80-bc3f-4b33-b80a-976b1c2ca5b3",
   "metadata": {},
   "outputs": [
    {
     "name": "stderr",
     "output_type": "stream",
     "text": [
      "'pwd' is not recognized as an internal or external command,\n",
      "operable program or batch file.\n"
     ]
    }
   ],
   "source": [
    "\n",
    "\n"
   ]
  },
  {
   "cell_type": "code",
   "execution_count": null,
   "id": "88af0ecc-b51e-4352-a245-445a3424d80a",
   "metadata": {},
   "outputs": [],
   "source": []
  }
 ],
 "metadata": {
  "kernelspec": {
   "display_name": "Python 3 (ipykernel)",
   "language": "python",
   "name": "python3"
  },
  "language_info": {
   "codemirror_mode": {
    "name": "ipython",
    "version": 3
   },
   "file_extension": ".py",
   "mimetype": "text/x-python",
   "name": "python",
   "nbconvert_exporter": "python",
   "pygments_lexer": "ipython3",
   "version": "3.9.7"
  }
 },
 "nbformat": 4,
 "nbformat_minor": 5
}
